{
 "cells": [
  {
   "cell_type": "code",
   "execution_count": 5,
   "metadata": {},
   "outputs": [],
   "source": [
    "import cv2\n",
    "import numpy as np\n",
    "%matplotlib inline\n",
    "import matplotlib.pyplot as plt\n",
    "from utils import *\n",
    "import os\n",
    "import pdb\n",
    "from scipy.sparse.linalg import lsqr"
   ]
  },
  {
   "cell_type": "code",
   "execution_count": 6,
   "metadata": {},
   "outputs": [
    {
     "data": {
      "text/plain": [
       "<matplotlib.image.AxesImage at 0x7fb52fa88710>"
      ]
     },
     "execution_count": 6,
     "metadata": {},
     "output_type": "execute_result"
    },
    {
     "data": {
      "image/png": "[encoded data removed]",
      "text/plain": [
       "<Figure size 432x288 with 1 Axes>"
      ]
     },
     "metadata": {
      "needs_background": "light"
     },
     "output_type": "display_data"
    }
   ],
   "source": [
    "toy_img = cv2.cvtColor(cv2.imread('samples/toy_problem.png'), cv2.COLOR_BGR2RGB)\n",
    "plt.imshow(toy_img)"
   ]
  },
  {
   "cell_type": "markdown",
   "metadata": {},
   "source": [
    "## Part 1 Toy Problem (20 pts)"
   ]
  },
  {
   "cell_type": "code",
   "execution_count": 63,
   "metadata": {},
   "outputs": [],
   "source": [
    "def toy_reconstruct(toy_img):\n",
    "    \"\"\"\n",
    "    The implementation for gradient domain processing is not complicated, but it is easy to make a mistake, so let's start with a toy example. Reconstruct this image from its gradient values, plus one pixel intensity. Denote the intensity of the source image at (x, y) as s(x,y) and the value to solve for as v(x,y). For each pixel, then, we have two objectives:\n",
    "    1. minimize (v(x+1,y)-v(x,y) - (s(x+1,y)-s(x,y)))^2\n",
    "    2. minimize (v(x,y+1)-v(x,y) - (s(x,y+1)-s(x,y)))^2\n",
    "    Note that these could be solved while adding any constant value to v, so we will add one more objective:\n",
    "    3. minimize (v(1,1)-s(1,1))^2\n",
    "    \n",
    "    :param toy_img: numpy.ndarray\n",
    "    \"\"\"\n",
    "    # dim of source img\n",
    "    im = toy_img[:,:,0]/255\n",
    "    im_h, im_w = im.shape[0],im.shape[1] \n",
    "    \n",
    "    # maps each pixel to a variable number\n",
    "    im2var = np.arange(im_h * im_w).reshape(im_w, im_h).T\n",
    "    \n",
    "    # piazza post, ask about border case and first pixel\n",
    "    n_constraints = im_h*(im_w-1) + (im_h-1)*im_w + 1 \n",
    "    e = 0\n",
    "    num_pixels = im_h* im_w\n",
    "    \n",
    "    # sparse matrix for A and b\n",
    "    A = csr_matrix((n_constraints, num_pixels), dtype=np.float64)\n",
    "    b = np.zeros(n_constraints)\n",
    "    \n",
    "    # obj 3, top left pixel (plus one pixel intensity)\n",
    "    e = e + 1;\n",
    "    A[e][im2var[0][0]] = 1\n",
    "    b[e] = im[0][0]\n",
    "    \n",
    "    # calc gradient for each pixel\n",
    "    for y in range(im2var.shape[0]-1):\n",
    "        for x in range(im2var.shape[1]-1):\n",
    "            #obj 1\n",
    "            e = e + 1;\n",
    "            A[e, im2var[y][x+1]] = 1\n",
    "            A[e, im2var[y][x]] = -1\n",
    "            b[e] = im[y][x+1] - im[y][x]\n",
    "            \n",
    "            #obj 2\n",
    "            e = e + 1;\n",
    "            A[e, im2var[y+1][x]] = 1\n",
    "            A[e, im2var[y][x]] = -1\n",
    "            b[e] = im[y+1][x] - im[y][x]\n",
    "    \n",
    "            \n",
    "    # solve for v with least square \n",
    "    v = lsqr(A, b)\n",
    "    \n",
    "    # img with 1 channel\n",
    "    res_ch1 = np.resize(v[0],(im_w, im_h)).T\n",
    "    #pdb.set_trace()\n",
    "    \n",
    "    # image with v in all 3 channels\n",
    "    res_ch3 = np.repeat(res_ch1[:,:,np.newaxis],3,axis=2)\n",
    "\n",
    "    return res_ch3*255\n",
    "   "
   ]
  },
  {
   "cell_type": "code",
   "execution_count": 64,
   "metadata": {
    "scrolled": true
   },
   "outputs": [
    {
     "name": "stdout",
     "output_type": "stream",
     "text": [
      "Error is:  21547.990458538978\n"
     ]
    }
   ],
   "source": [
    "im_out = toy_reconstruct(toy_img)\n",
    "if im_out is not None and im_out.any():\n",
    "    print(\"Error is: \", np.sqrt(((im_out - toy_img)**2).sum()))"
   ]
  },
  {
   "cell_type": "code",
   "execution_count": 62,
   "metadata": {},
   "outputs": [
    {
     "name": "stderr",
     "output_type": "stream",
     "text": [
      "Clipping input data to the valid range for imshow with RGB data ([0..1] for floats or [0..255] for integers).\n"
     ]
    },
    {
     "data": {
      "text/plain": [
       "<matplotlib.image.AxesImage at 0x7fb52dbf8518>"
      ]
     },
     "execution_count": 62,
     "metadata": {},
     "output_type": "execute_result"
    },
    {
     "data": {
      "image/png": "[encoded data removed]",
      "text/plain": [
       "<Figure size 432x288 with 1 Axes>"
      ]
     },
     "metadata": {
      "needs_background": "light"
     },
     "output_type": "display_data"
    }
   ],
   "source": [
    "plt.imshow(im_out)"
   ]
  },
  {
   "cell_type": "markdown",
   "metadata": {},
   "source": [
    "## Preparation"
   ]
  },
  {
   "cell_type": "code",
   "execution_count": null,
   "metadata": {},
   "outputs": [],
   "source": [
    "# Feel free to change image\n",
    "background_img = cv2.cvtColor(cv2.imread('samples/im2.JPG'), cv2.COLOR_BGR2RGB).astype('double') / 255.0 \n",
    "plt.figure()\n",
    "plt.imshow(background_img)"
   ]
  },
  {
   "cell_type": "code",
   "execution_count": null,
   "metadata": {},
   "outputs": [],
   "source": [
    "# Feel free to change image\n",
    "object_img = cv2.cvtColor(cv2.imread('samples/penguin-chick.jpeg'), cv2.COLOR_BGR2RGB).astype('double') / 255.0 \n",
    "import matplotlib.pyplot as plt\n",
    "%matplotlib notebook\n",
    "mask_coords = specify_mask(object_img)"
   ]
  },
  {
   "cell_type": "code",
   "execution_count": null,
   "metadata": {},
   "outputs": [],
   "source": [
    "xs = mask_coords[0]\n",
    "ys = mask_coords[1]\n",
    "%matplotlib inline\n",
    "import matplotlib.pyplot as plt\n",
    "plt.figure()\n",
    "mask = get_mask(ys, xs, object_img)"
   ]
  },
  {
   "cell_type": "code",
   "execution_count": null,
   "metadata": {},
   "outputs": [],
   "source": [
    "%matplotlib notebook\n",
    "import matplotlib.pyplot as plt\n",
    "bottom_center = specify_bottom_center(background_img)"
   ]
  },
  {
   "cell_type": "code",
   "execution_count": null,
   "metadata": {},
   "outputs": [],
   "source": [
    "%matplotlib inline\n",
    "import matplotlib.pyplot as plt\n",
    "cropped_object, object_mask = align_source(object_img, mask, background_img, bottom_center)"
   ]
  },
  {
   "cell_type": "markdown",
   "metadata": {},
   "source": [
    "## Part 2 Poisson Blending (50 pts)"
   ]
  },
  {
   "cell_type": "code",
   "execution_count": null,
   "metadata": {},
   "outputs": [],
   "source": [
    "def poisson_blend(cropped_object, object_mask, background_img):\n",
    "    \"\"\"\n",
    "    :param cropped_object: numpy.ndarray One you get from align_source\n",
    "    :param object_mask: numpy.ndarray One you get from align_source\n",
    "    :param background_img: numpy.ndarray \n",
    "    \"\"\"\n",
    "    #TO DO \n",
    "    pass"
   ]
  },
  {
   "cell_type": "code",
   "execution_count": null,
   "metadata": {},
   "outputs": [],
   "source": [
    "im_blend = poisson_blend(cropped_object, object_mask, background_img)\n",
    "if im_blend and im_blend.any():\n",
    "    %matplotlib inline\n",
    "    import matplotlib.pyplot as plt\n",
    "    plt.imshow(im_blend)"
   ]
  },
  {
   "cell_type": "markdown",
   "metadata": {},
   "source": [
    "## Part 3 Mixed Gradients (20 pts)"
   ]
  },
  {
   "cell_type": "code",
   "execution_count": null,
   "metadata": {},
   "outputs": [],
   "source": [
    "def mix_blend(cropped_object, object_mask, background_img):\n",
    "    \"\"\"\n",
    "    :param cropped_object: numpy.ndarray One you get from align_source\n",
    "    :param object_mask: numpy.ndarray One you get from align_source\n",
    "    :param background_img: numpy.ndarray \n",
    "    \"\"\"\n",
    "    #TO DO \n",
    "    pass"
   ]
  },
  {
   "cell_type": "code",
   "execution_count": null,
   "metadata": {},
   "outputs": [],
   "source": [
    "im_mix = mix_blend(cropped_object, object_mask, background_img)\n",
    "if im_mix and im_mix.any():\n",
    "    %matplotlib inline\n",
    "    import matplotlib.pyplot as plt\n",
    "    plt.imshow(im_mix)"
   ]
  },
  {
   "cell_type": "markdown",
   "metadata": {},
   "source": [
    "# Bells & Whistles (Extra Points)"
   ]
  },
  {
   "cell_type": "markdown",
   "metadata": {},
   "source": [
    "## Color2Gray (20 pts)"
   ]
  },
  {
   "cell_type": "code",
   "execution_count": null,
   "metadata": {},
   "outputs": [],
   "source": [
    "def color2gray(img):\n",
    "    pass"
   ]
  },
  {
   "cell_type": "markdown",
   "metadata": {},
   "source": [
    "## Laplacian pyramid blending (20 pts)"
   ]
  },
  {
   "cell_type": "code",
   "execution_count": null,
   "metadata": {},
   "outputs": [],
   "source": [
    "def laplacian_blend(img1, img2):\n",
    "    pass"
   ]
  },
  {
   "cell_type": "markdown",
   "metadata": {},
   "source": [
    "## More gradient domain processing (up to 20 pts)"
   ]
  },
  {
   "cell_type": "code",
   "execution_count": null,
   "metadata": {},
   "outputs": [],
   "source": []
  }
 ],
 "metadata": {
  "kernelspec": {
   "display_name": "Python 3",
   "language": "python",
   "name": "python3"
  },
  "language_info": {
   "codemirror_mode": {
    "name": "ipython",
    "version": 3
   },
   "file_extension": ".py",
   "mimetype": "text/x-python",
   "name": "python",
   "nbconvert_exporter": "python",
   "pygments_lexer": "ipython3",
   "version": "3.6.9"
  }
 },
 "nbformat": 4,
 "nbformat_minor": 2
}

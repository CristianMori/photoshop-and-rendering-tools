{
 "cells": [
  {
   "cell_type": "code",
   "execution_count": 1,
   "metadata": {},
   "outputs": [],
   "source": [
    "import cv2\n",
    "import numpy as np\n",
    "%matplotlib inline\n",
    "import matplotlib.pyplot as plt\n",
    "from utils import *\n",
    "import os\n",
    "import scipy\n",
    "from scipy.sparse import csr_matrix"
   ]
  },
  {
   "cell_type": "code",
   "execution_count": 2,
   "metadata": {},
   "outputs": [
    {
     "data": {
      "text/plain": [
       "<matplotlib.image.AxesImage at 0x1c289d4650>"
      ]
     },
     "execution_count": 2,
     "metadata": {},
     "output_type": "execute_result"
    },
    {
     "data": {
      "image/png": "[encoded data removed]",
      "text/plain": [
       "<Figure size 432x288 with 1 Axes>"
      ]
     },
     "metadata": {
      "needs_background": "light"
     },
     "output_type": "display_data"
    }
   ],
   "source": [
    "toy_img = cv2.cvtColor(cv2.imread('samples/toy_problem.png'), cv2.COLOR_BGR2RGB)\n",
    "plt.imshow(toy_img)"
   ]
  },
  {
   "cell_type": "markdown",
   "metadata": {},
   "source": [
    "## Part 1 Toy Problem (20 pts)"
   ]
  },
  {
   "cell_type": "code",
   "execution_count": 3,
   "metadata": {},
   "outputs": [],
   "source": [
    "def toy_reconstruct(toy_img):\n",
    "    \"\"\"\n",
    "    The implementation for gradient domain processing is not complicated, but it is easy to make a mistake, so let's start with a toy example. Reconstruct this image from its gradient values, plus one pixel intensity. Denote the intensity of the source image at (x, y) as s(x,y) and the value to solve for as v(x,y). For each pixel, then, we have two objectives:\n",
    "    1. minimize (v(x+1,y)-v(x,y) - (s(x+1,y)-s(x,y)))^2\n",
    "    2. minimize (v(x,y+1)-v(x,y) - (s(x,y+1)-s(x,y)))^2\n",
    "    Note that these could be solved while adding any constant value to v, so we will add one more objective:\n",
    "    3. minimize (v(1,1)-s(1,1))^2\n",
    "    \n",
    "    :param toy_img: numpy.ndarray\n",
    "    \"\"\"\n",
    "    toy_img = toy_img.astype(np.float64)\n",
    "    im_h, im_w, channels = toy_img.shape\n",
    "    toy_img = np.asarray(toy_img[:,:,0],dtype=np.float64)/255.0\n",
    "    im2var = np.arange(im_h * im_w).reshape(im_w, im_h).T\n",
    "    \n",
    "    all_pixels = im_w * im_h \n",
    "    num_equations = im_h*(im_w-1) + (im_h-1)*im_w + 1\n",
    "    \n",
    "    A = np.zeros((num_equations, all_pixels), dtype=np.float64)\n",
    "    b = np.zeros(shape = (num_equations, 1), dtype=np.float64)\n",
    "    e = 0\n",
    "    \n",
    "    for x in range(len(toy_img)):\n",
    "        for y in range(len(toy_img[0])):\n",
    "            if x == 0 and y == 0:\n",
    "                A[e][im2var[0][0]] = 1\n",
    "                b[e] = toy_img[0][0]\n",
    "                e = e + 1\n",
    "                \n",
    "                \n",
    "            #handling borders\n",
    "            if x == len(toy_img) - 1:\n",
    "                if y is not len(toy_img[0]) - 1:\n",
    "                    A[e][im2var[x][y+1]] = 1\n",
    "                    A[e][im2var[x][y]] = -1\n",
    "                    b[e] = toy_img[x][y+1] - toy_img[x][y]\n",
    "                    e = e + 1\n",
    "                continue\n",
    "                \n",
    "            if y == len(toy_img[0]) - 1:\n",
    "                if x is not len(toy_img) - 1:\n",
    "                    A[e][im2var[x+1][y]] = 1\n",
    "                    A[e][im2var[x][y]] = -1\n",
    "                    b[e] = toy_img[x+1][y] - toy_img[x][y]\n",
    "                    e = e + 1\n",
    "                continue\n",
    "                \n",
    "            #objective 1\n",
    "            A[e][im2var[x+1][y]] = 1\n",
    "            A[e][im2var[x][y]] = -1\n",
    "            b[e] = toy_img[x+1][y] - toy_img[x][y]\n",
    "            e = e + 1\n",
    "\n",
    "            #objective 2\n",
    "            A[e, im2var[x][y+1]] = 1\n",
    "            A[e, im2var[x][y]] = -1\n",
    "            b[e] = toy_img[x][y+1] - toy_img[x][y]\n",
    "            e = e + 1 \n",
    "            \n",
    "    v = scipy.sparse.linalg.lsqr(csr_matrix(A, dtype=np.float64), b, atol = 10**-14, btol = 10**-14)\n",
    "    v = v[0].reshape(im_w, im_h).T\n",
    "    res = np.repeat(v[:, :, np.newaxis], 3, axis=2)\n",
    "    return res*255\n",
    "    "
   ]
  },
  {
   "cell_type": "code",
   "execution_count": 4,
   "metadata": {},
   "outputs": [
    {
     "name": "stdout",
     "output_type": "stream",
     "text": [
      "('Error is: ', 9.251115009776494e-08)\n"
     ]
    }
   ],
   "source": [
    "im_out = toy_reconstruct(toy_img)\n",
    "if im_out is not None and im_out.any():\n",
    "    print(\"Error is: \", np.sqrt(((im_out - toy_img)**2).sum()))"
   ]
  },
  {
   "cell_type": "markdown",
   "metadata": {},
   "source": [
    "## Preparation"
   ]
  },
  {
   "cell_type": "code",
   "execution_count": null,
   "metadata": {},
   "outputs": [],
   "source": [
    "# Feel free to change image\n",
    "background_img = cv2.cvtColor(cv2.imread('samples/dim_wall.jpeg'), cv2.COLOR_BGR2RGB).astype('double') / 255.0 \n",
    "plt.figure()\n",
    "plt.imshow(background_img)"
   ]
  },
  {
   "cell_type": "code",
   "execution_count": null,
   "metadata": {},
   "outputs": [],
   "source": [
    "# Feel free to change image\n",
    "object_img = cv2.cvtColor(cv2.imread('samples/dream.jpeg'), cv2.COLOR_BGR2RGB).astype('double') / 255.0 \n",
    "import matplotlib.pyplot as plt\n",
    "%matplotlib notebook\n",
    "mask_coords = specify_mask(object_img)"
   ]
  },
  {
   "cell_type": "code",
   "execution_count": null,
   "metadata": {},
   "outputs": [],
   "source": [
    "xs = mask_coords[0]\n",
    "ys = mask_coords[1]\n",
    "%matplotlib inline\n",
    "import matplotlib.pyplot as plt\n",
    "plt.figure()\n",
    "mask = get_mask(ys, xs, object_img)"
   ]
  },
  {
   "cell_type": "code",
   "execution_count": null,
   "metadata": {},
   "outputs": [],
   "source": [
    "%matplotlib notebook\n",
    "import matplotlib.pyplot as plt\n",
    "bottom_center = specify_bottom_center(background_img)"
   ]
  },
  {
   "cell_type": "code",
   "execution_count": null,
   "metadata": {},
   "outputs": [],
   "source": [
    "%matplotlib inline\n",
    "import matplotlib.pyplot as plt\n",
    "cropped_object, object_mask = align_source(object_img, mask, background_img, bottom_center)"
   ]
  },
  {
   "cell_type": "markdown",
   "metadata": {},
   "source": [
    "## Part 2 Poisson Blending (50 pts)"
   ]
  },
  {
   "cell_type": "code",
   "execution_count": null,
   "metadata": {},
   "outputs": [],
   "source": [
    "def FillA(cropped_object, orig_coord, neigh_coor, background_img, im2var, e, row, col, data):\n",
    "    if neigh_coor in im2var:\n",
    "        row.append(e)\n",
    "        col.append(im2var[neigh_coor])\n",
    "        data.append(-1)\n",
    "\n",
    "        row.append(e)\n",
    "        col.append(im2var[orig_coord])\n",
    "        data.append(1)\n",
    "    else:\n",
    "        row.append(e)\n",
    "        col.append(im2var[orig_coord])\n",
    "        data.append(1)\n",
    "\n",
    "def FillB(b, cropped_object, orig_coord, neigh_coor, background_img, im2var, channel, e):\n",
    "    if neigh_coor in im2var:\n",
    "        b[e] = cropped_object[orig_coord[0]][orig_coord[1]][channel] - cropped_object[neigh_coor[0]][neigh_coor[1]][channel] #s[i] - s[j]\n",
    "    else:\n",
    "        b[e] = cropped_object[orig_coord[0]][orig_coord[1]][channel] - cropped_object[neigh_coor[0]][neigh_coor[1]][channel] + background_img[neigh_coor[0]][neigh_coor[1]][channel] #s[i] - s[j] +t[j]\n",
    "\n",
    "def poisson_blend(cropped_object, object_mask, background_img):\n",
    "    \"\"\"\n",
    "    :param cropped_object: numpy.ndarray One you get from align_source\n",
    "    :param object_mask: numpy.ndarray One you get from align_source\n",
    "    :param background_img: numpy.ndarray \n",
    "    \"\"\"\n",
    "    #Divide by 255\n",
    "    cropped_object = cropped_object/255\n",
    "    background_img = background_img/255\n",
    "    \n",
    "    #count the number of pixels and equations\n",
    "    num_pixels = np.count_nonzero(object_mask)\n",
    "    num_equations = 4 * num_pixels\n",
    "    \n",
    "    #Declare the A,b, and final_image arrays  \n",
    "    row = []\n",
    "    col = []\n",
    "    data = []\n",
    "    \n",
    "    final_image = np.copy(background_img)\n",
    "    \n",
    "    im2var = {}\n",
    "    num2coor = {}\n",
    "    \n",
    "    incrementer = 0\n",
    "    #print(\"Populating im2var\")\n",
    "    for i in range(0, len(object_mask)):\n",
    "        for j in range(0, len(object_mask[0])):\n",
    "            pixel = object_mask[i][j]\n",
    "            coordinates = (i,j)\n",
    "            if pixel == 1:\n",
    "                im2var[coordinates] = incrementer\n",
    "                num2coor[incrementer] = coordinates\n",
    "                incrementer += 1\n",
    "                \n",
    "    #print(\"Populated im2var\")           \n",
    "    e = 0\n",
    "    for (x, y) in im2var.keys():\n",
    "        coordinate = (x,y)\n",
    "\n",
    "        #coordinates\n",
    "        up_coordinate = (x - 1, y)\n",
    "        left_coordinate = (x, y - 1)\n",
    "        down_coordinate = (x + 1, y)\n",
    "        right_coordinate = (x, y + 1)\n",
    "\n",
    "        FillA(cropped_object, coordinate, up_coordinate, background_img, im2var, e, row, col, data)\n",
    "        e = e + 1\n",
    "        FillA(cropped_object, coordinate, left_coordinate, background_img, im2var, e, row, col, data)\n",
    "        e = e + 1\n",
    "        FillA(cropped_object, coordinate, down_coordinate, background_img, im2var, e, row, col, data)\n",
    "        e = e + 1\n",
    "        FillA(cropped_object, coordinate, right_coordinate, background_img, im2var, e, row, col, data)\n",
    "        e = e + 1\n",
    "    \n",
    "    A = csr_matrix((data, (row, col)), shape=(num_equations, num_pixels), dtype=np.float64)\n",
    "\n",
    "    #print(\"Filled A\")\n",
    "   \n",
    "    for channel in range(0,3):\n",
    "        b = np.zeros(shape = (num_equations, 1), dtype=np.float64)\n",
    "        e=0\n",
    "        for (x, y) in im2var.keys():\n",
    "            coordinate = (x,y)\n",
    "\n",
    "            #coordinates\n",
    "            up_coordinate = (x - 1, y)\n",
    "            left_coordinate = (x, y - 1)\n",
    "            down_coordinate = (x + 1, y)\n",
    "            right_coordinate = (x, y + 1)\n",
    "\n",
    "            FillB(b, cropped_object, coordinate, up_coordinate, background_img, im2var, channel, e)\n",
    "            e = e + 1\n",
    "            FillB(b, cropped_object, coordinate, left_coordinate, background_img, im2var, channel, e)\n",
    "            e = e + 1\n",
    "            FillB(b, cropped_object, coordinate, down_coordinate, background_img, im2var, channel, e)\n",
    "            e = e + 1\n",
    "            FillB(b, cropped_object, coordinate, right_coordinate, background_img, im2var, channel, e)\n",
    "            e = e + 1\n",
    "        #print(\"Filled B\")\n",
    "        v = scipy.sparse.linalg.lsqr(A, b)\n",
    "        #print(\"ScipYYYYy\")\n",
    "\n",
    "        for i in range(num_pixels):\n",
    "            coordinate = num2coor[i]\n",
    "            final_image[coordinate[0]][coordinate[1]][channel] = v[0][i]\n",
    "\n",
    "    return final_image*255\n",
    "         \n",
    "    "
   ]
  },
  {
   "cell_type": "code",
   "execution_count": null,
   "metadata": {},
   "outputs": [],
   "source": [
    "im_blend = poisson_blend(cropped_object, object_mask, background_img)\n",
    "if im_blend is not None and im_blend.any():\n",
    "    %matplotlib inline\n",
    "    import matplotlib.pyplot as plt\n",
    "    plt.imshow(im_blend)"
   ]
  },
  {
   "cell_type": "markdown",
   "metadata": {},
   "source": [
    "## Part 3 Mixed Gradients (20 pts)"
   ]
  },
  {
   "cell_type": "code",
   "execution_count": null,
   "metadata": {},
   "outputs": [],
   "source": [
    "def FillA(cropped_object, orig_coord, neigh_coor, background_img, im2var, e, row, col, data):\n",
    "    if neigh_coor in im2var:\n",
    "        row.append(e)\n",
    "        col.append(im2var[neigh_coor])\n",
    "        data.append(-1)\n",
    "\n",
    "        row.append(e)\n",
    "        col.append(im2var[orig_coord])\n",
    "        data.append(1)\n",
    "    else:\n",
    "        row.append(e)\n",
    "        col.append(im2var[orig_coord])\n",
    "        data.append(1)\n",
    "\n",
    "def FillB(b, cropped_object, orig_coord, neigh_coor, background_img, im2var, channel, e):\n",
    "        source_orig = cropped_object[orig_coord[0]][orig_coord[1]][channel] - cropped_object[neigh_coor[0]][neigh_coor[1]][channel]\n",
    "        target_orig = background_img[orig_coord[0]][orig_coord[1]][channel] - background_img[neigh_coor[0]][neigh_coor[1]][channel]\n",
    "        pos_source = abs(cropped_object[orig_coord[0]][orig_coord[1]][channel] - cropped_object[neigh_coor[0]][neigh_coor[1]][channel])\n",
    "        pos_targ = abs(background_img[orig_coord[0]][orig_coord[1]][channel] - background_img[neigh_coor[0]][neigh_coor[1]][channel])\n",
    "        if pos_source > pos_targ:\n",
    "            b[e] = source_orig\n",
    "        elif pos_targ > pos_source:\n",
    "            b[e] = target_orig\n",
    "        \n",
    "        if neigh_coor not in im2var:\n",
    "            b[e] = b[e] + background_img[neigh_coor[0]][neigh_coor[1]][channel]\n",
    "            \n",
    "        \n",
    "        \n",
    "\n",
    "\n",
    "def mix_blend(cropped_object, object_mask, background_img):\n",
    "    \n",
    "    \"\"\"\n",
    "    :param cropped_object: numpy.ndarray One you get from align_source\n",
    "    :param object_mask: numpy.ndarray One you get from align_source\n",
    "    :param background_img: numpy.ndarray \n",
    "    \"\"\"\n",
    "    #Divide by 255\n",
    "    cropped_object = cropped_object/255\n",
    "    background_img = background_img/255\n",
    "    \n",
    "    #count the number of pixels and equations\n",
    "    num_pixels = np.count_nonzero(object_mask)\n",
    "    num_equations = 4 * num_pixels\n",
    "    \n",
    "    #Declare the A,b, and final_image arrays  \n",
    "    row = []\n",
    "    col = []\n",
    "    data = []\n",
    "    \n",
    "    final_image = np.copy(background_img)\n",
    "    \n",
    "    im2var = {}\n",
    "    num2coor = {}\n",
    "    \n",
    "    incrementer = 0\n",
    "    #print(\"Populating im2var\")\n",
    "    for i in range(0, len(object_mask)):\n",
    "        for j in range(0, len(object_mask[0])):\n",
    "            pixel = object_mask[i][j]\n",
    "            coordinates = (i,j)\n",
    "            if pixel == 1:\n",
    "                im2var[coordinates] = incrementer\n",
    "                num2coor[incrementer] = coordinates\n",
    "                incrementer += 1\n",
    "                \n",
    "    #print(\"Populated im2var\")           \n",
    "    e = 0\n",
    "    for (x, y) in im2var.keys():\n",
    "        coordinate = (x,y)\n",
    "\n",
    "        #coordinates\n",
    "        up_coordinate = (x - 1, y)\n",
    "        left_coordinate = (x, y - 1)\n",
    "        down_coordinate = (x + 1, y)\n",
    "        right_coordinate = (x, y + 1)\n",
    "\n",
    "        FillA(cropped_object, coordinate, up_coordinate, background_img, im2var, e, row, col, data)\n",
    "        e = e + 1\n",
    "        FillA(cropped_object, coordinate, left_coordinate, background_img, im2var, e, row, col, data)\n",
    "        e = e + 1\n",
    "        FillA(cropped_object, coordinate, down_coordinate, background_img, im2var, e, row, col, data)\n",
    "        e = e + 1\n",
    "        FillA(cropped_object, coordinate, right_coordinate, background_img, im2var, e, row, col, data)\n",
    "        e = e + 1\n",
    "    \n",
    "    A = csr_matrix((data, (row, col)), shape=(num_equations, num_pixels), dtype=np.float64)\n",
    "\n",
    "    #print(\"Filled A\")\n",
    "   \n",
    "    for channel in range(0,3):\n",
    "        b = np.zeros(shape = (num_equations, 1), dtype=np.float64)\n",
    "        e=0\n",
    "        for (x, y) in im2var.keys():\n",
    "            coordinate = (x,y)\n",
    "\n",
    "            #coordinates\n",
    "            up_coordinate = (x - 1, y)\n",
    "            left_coordinate = (x, y - 1)\n",
    "            down_coordinate = (x + 1, y)\n",
    "            right_coordinate = (x, y + 1)\n",
    "\n",
    "            FillB(b, cropped_object, coordinate, up_coordinate, background_img, im2var, channel, e)\n",
    "            e = e + 1\n",
    "            FillB(b, cropped_object, coordinate, left_coordinate, background_img, im2var, channel, e)\n",
    "            e = e + 1\n",
    "            FillB(b, cropped_object, coordinate, down_coordinate, background_img, im2var, channel, e)\n",
    "            e = e + 1\n",
    "            FillB(b, cropped_object, coordinate, right_coordinate, background_img, im2var, channel, e)\n",
    "            e = e + 1\n",
    "        #print(\"Filled B\")\n",
    "        v = scipy.sparse.linalg.lsqr(A, b)\n",
    "        #print(\"ScipYYYYy\")\n",
    "\n",
    "        for i in range(num_pixels):\n",
    "            coordinate = num2coor[i]\n",
    "            final_image[coordinate[0]][coordinate[1]][channel] = v[0][i]\n",
    "\n",
    "    return final_image*255"
   ]
  },
  {
   "cell_type": "code",
   "execution_count": null,
   "metadata": {},
   "outputs": [],
   "source": [
    "im_mix = mix_blend(cropped_object, object_mask, background_img)\n",
    "if im_mix is not None and im_mix.any():\n",
    "    %matplotlib inline\n",
    "    import matplotlib.pyplot as plt\n",
    "    plt.imshow(im_mix)"
   ]
  },
  {
   "cell_type": "markdown",
   "metadata": {},
   "source": [
    "# Bells & Whistles (Extra Points)"
   ]
  },
  {
   "cell_type": "markdown",
   "metadata": {},
   "source": [
    "## Color2Gray (20 pts)"
   ]
  },
  {
   "cell_type": "code",
   "execution_count": null,
   "metadata": {},
   "outputs": [],
   "source": [
    "def color2gray(img):\n",
    "    pass"
   ]
  },
  {
   "cell_type": "markdown",
   "metadata": {},
   "source": [
    "## Laplacian pyramid blending (20 pts)"
   ]
  },
  {
   "cell_type": "code",
   "execution_count": null,
   "metadata": {},
   "outputs": [],
   "source": [
    "def laplacian_blend(img1, img2):\n",
    "    pass"
   ]
  },
  {
   "cell_type": "markdown",
   "metadata": {},
   "source": [
    "## More gradient domain processing (up to 20 pts)"
   ]
  },
  {
   "cell_type": "code",
   "execution_count": null,
   "metadata": {},
   "outputs": [],
   "source": []
  }
 ],
 "metadata": {
  "kernelspec": {
   "display_name": "Python 3",
   "language": "python",
   "name": "python3"
  },
  "language_info": {
   "codemirror_mode": {
    "name": "ipython",
    "version": 3
   },
   "file_extension": ".py",
   "mimetype": "text/x-python",
   "name": "python",
   "nbconvert_exporter": "python",
   "pygments_lexer": "ipython3",
   "version": "3.6.9"
  }
 },
 "nbformat": 4,
 "nbformat_minor": 2
}
